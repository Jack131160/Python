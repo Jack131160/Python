
  {
   "cell_type": "code",
   "execution_count": 1,
   "metadata": {},
   "outputs": [],
   "source": [
    "import numpy as np\n",
    "import pandas as pd\n",
    "import seaborn as sns\n",
    "import matplotlib.pyplot as plt"
   ]
  },
  {
   "cell_type": "markdown",
   "metadata": {},
   "source": [
    "# NumPy Arrays"
   ]
  },
  {
   "cell_type": "code",
   "execution_count": 2,
   "metadata": {},
   "outputs": [],
   "source": [
    "# First 20 countries with employment data\n",
    "countries = np.array([\n",
    "    'Afghanistan', 'Albania', 'Algeria', 'Angola', 'Argentina',\n",
    "    'Armenia', 'Australia', 'Austria', 'Azerbaijan', 'Bahamas',\n",
    "    'Bahrain', 'Bangladesh', 'Barbados', 'Belarus', 'Belgium',\n",
    "    'Belize', 'Benin', 'Bhutan', 'Bolivia',\n",
    "    'Bosnia and Herzegovina'\n",
    "])\n",
    "\n",
    "# Employment data in 2007 for those 20 countries\n",
    "employment = np.array([\n",
    "    55.70000076,  51.40000153,  50.5       ,  75.69999695,\n",
    "    58.40000153,  40.09999847,  61.5       ,  57.09999847,\n",
    "    60.90000153,  66.59999847,  60.40000153,  68.09999847,\n",
    "    66.90000153,  53.40000153,  48.59999847,  56.79999924,\n",
    "    71.59999847,  58.40000153,  70.40000153,  41.20000076\n",
    "])\n",
    "\n",
    "# Change False to True for each block of code to see what it does\n",
    "\n",
    "# Accessing elements\n",
    "if False:\n",
    "    print(countries[0])\n",
    "    print(countries[3])\n",
    "\n",
    "# Slicing\n",
    "if False:\n",
    "    print(countries[0:3])\n",
    "    print(countries[:3])\n",
    "    print(countries[17:])\n",
    "    print(countries[:])\n",
    "\n",
    "# Element types\n",
    "if False:\n",
    "    print(countries.dtype)\n",
    "    print(employment.dtype)\n",
    "    print(np.array([0, 1, 2, 3]).dtype)\n",
    "    print(np.array([1.0, 1.5, 2.0, 2.5]).dtype)\n",
    "    print(np.array([True, False, True]).dtype)\n",
    "    print(np.array(['AL', 'AK', 'AZ', 'AR', 'CA']).dtype)\n",
    "\n",
    "# Looping\n",
    "if False:\n",
    "    for country in countries:\n",
    "        print('Examining country {}'.format(country))\n",
    "\n",
    "    for i in range(len(countries)):\n",
    "        country = countries[i]\n",
    "        country_employment = employment[i]\n",
    "        print('Country {} has employment {}'.format(country,\n",
    "                country_employment))\n",
    "\n",
    "# Numpy functions\n",
    "if False:\n",
    "    print(employment.mean())\n",
    "    print(employment.std())\n",
    "    print(employment.max())\n",
    "    print(employment.sum())\n",
    "\n",
    "def max_employment(countries, employment):\n",
    "    '''\n",
    "    Fill in this function to return the name of the country\n",
    "    with the highest employment in the given employment\n",
    "    data, and the employment in that country.\n",
    "    '''\n",
    "    max_country = countries[np.argmax(employment)]     # Replace this with your code\n",
    "    max_value = employment.max()   # Replace this with your code\n",
    "\n",
    "    return (max_country, max_value)\n"
   ]
  },
  {
   "cell_type": "markdown",
   "metadata": {},
   "source": [
    "# Calculate Overall Completion Rate"
   ]
  },
  {
   "cell_type": "code",
   "execution_count": 3,
   "metadata": {},
   "outputs": [],
   "source": [
    "# Change False to True for each block of code to see what it does\n",
    "\n",
    "# Arithmetic operations between 2 NumPy arrays\n",
    "if False:\n",
    "    a = np.array([1, 2, 3, 4])\n",
    "    b = np.array([1, 2, 1, 2])\n",
    "    \n",
    "    print(a + b)\n",
    "    print(a - b)\n",
    "    print(a * b)\n",
    "    print(a / b)\n",
    "    print(a ** b)\n",
    "    \n",
    "# Arithmetic operations between a NumPy array and a single number\n",
    "if False:\n",
    "    a = np.array([1, 2, 3, 4])\n",
    "    b = 2\n",
    "    \n",
    "    print(a + b)\n",
    "    print(a - b)\n",
    "    print(a * b)\n",
    "    print(a / b)\n",
    "    print(a ** b)\n",
    "    \n",
    "# Logical operations with NumPy arrays\n",
    "if False:\n",
    "    a = np.array([True, True, False, False])\n",
    "    b = np.array([True, False, True, False])\n",
    "    \n",
    "    print(a & b)\n",
    "    print(a | b)\n",
    "    print(~a)\n",
    "    \n",
    "    print(a & True)\n",
    "    print(a & False)\n",
    "    \n",
    "    print(a | True)\n",
    "    print(a | False)\n",
    "    \n",
    "# Comparison operations between 2 NumPy Arrays\n",
    "if False:\n",
    "    a = np.array([1, 2, 3, 4, 5])\n",
    "    b = np.array([5, 4, 3, 2, 1])\n",
    "    \n",
    "    print(a > b)\n",
    "    print(a >= b)\n",
    "    print(a < b)\n",
    "    print(a <= b)\n",
    "    print(a == b)\n",
    "    print(a != b)\n",
    "    \n",
    "# Comparison operations between a NumPy array and a single number\n",
    "if False:\n",
    "    a = np.array([1, 2, 3, 4])\n",
    "    b = 2\n",
    "    \n",
    "    print(a > b)\n",
    "    print(a >= b)\n",
    "    print(a < b)\n",
    "    print(a <= b)\n",
    "    print(a == b)\n",
    "    print(a != b)\n",
    "    \n",
    "# First 20 countries with school completion data\n",
    "countries = np.array([\n",
    "       'Algeria', 'Argentina', 'Armenia', 'Aruba', 'Austria','Azerbaijan',\n",
    "       'Bahamas', 'Barbados', 'Belarus', 'Belgium', 'Belize', 'Bolivia',\n",
    "       'Botswana', 'Brunei', 'Bulgaria', 'Burkina Faso', 'Burundi',\n",
    "       'Cambodia', 'Cameroon', 'Cape Verde'\n",
    "])\n",
    "\n",
    "# Female school completion rate in 2007 for those 20 countries\n",
    "female_completion = np.array([\n",
    "    97.35583,  104.62379,  103.02998,   95.14321,  103.69019,\n",
    "    98.49185,  100.88828,   95.43974,   92.11484,   91.54804,\n",
    "    95.98029,   98.22902,   96.12179,  119.28105,   97.84627,\n",
    "    29.07386,   38.41644,   90.70509,   51.7478 ,   95.45072\n",
    "])\n",
    "\n",
    "# Male school completion rate in 2007 for those 20 countries\n",
    "male_completion = np.array([\n",
    "     95.47622,  100.66476,   99.7926 ,   91.48936,  103.22096,\n",
    "     97.80458,  103.81398,   88.11736,   93.55611,   87.76347,\n",
    "    102.45714,   98.73953,   92.22388,  115.3892 ,   98.70502,\n",
    "     37.00692,   45.39401,   91.22084,   62.42028,   90.66958\n",
    "])\n",
    "\n",
    "def overall_completion_rate(female_completion, male_completion):\n",
    "    '''\n",
    "    Fill in this function to return a NumPy array containing the overall\n",
    "    school completion rate for each country. The arguments are NumPy\n",
    "    arrays giving the female and male completion of each country in\n",
    "    the same order.\n",
    "    '''\n",
    "    return (female_completion + male_completion)/2."
   ]
  },
  {
   "cell_type": "markdown",
   "metadata": {},
   "source": [
    "# Standardizing Data"
   ]
  },
  {
   "cell_type": "code",
   "execution_count": 4,
   "metadata": {},
   "outputs": [],
   "source": [
    "# First 20 countries with employment data\n",
    "countries = np.array([\n",
    "    'Afghanistan', 'Albania', 'Algeria', 'Angola', 'Argentina',\n",
    "    'Armenia', 'Australia', 'Austria', 'Azerbaijan', 'Bahamas',\n",
    "    'Bahrain', 'Bangladesh', 'Barbados', 'Belarus', 'Belgium',\n",
    "    'Belize', 'Benin', 'Bhutan', 'Bolivia',\n",
    "    'Bosnia and Herzegovina'\n",
    "])\n",
    "\n",
    "# Employment data in 2007 for those 20 countries\n",
    "employment = np.array([\n",
    "    55.70000076,  51.40000153,  50.5       ,  75.69999695,\n",
    "    58.40000153,  40.09999847,  61.5       ,  57.09999847,\n",
    "    60.90000153,  66.59999847,  60.40000153,  68.09999847,\n",
    "    66.90000153,  53.40000153,  48.59999847,  56.79999924,\n",
    "    71.59999847,  58.40000153,  70.40000153,  41.20000076\n",
    "])\n",
    "\n",
    "# Change this country name to change what country will be printed when you\n",
    "# click \"Test Run\". Your function will be called to determine the standardized\n",
    "# score for this country for each of the given 5 Gapminder variables in 2007.\n",
    "# The possible country names are available in the Downloadables section.\n",
    "\n",
    "country_name = 'United States'\n",
    "\n",
    "def standardize_data(values):\n",
    "    '''\n",
    "    Fill in this function to return a standardized version of the given values,\n",
    "    which will be in a NumPy array. Each value should be translated into the\n",
    "    number of standard deviations that value is away from the mean of the data.\n",
    "    (A positive number indicates a value higher than the mean, and a negative\n",
    "    number indicates a value lower than the mean.)\n",
    "    '''\n",
    "    return (values - values.mean())/values.std()"
   ]
  },
  {
   "cell_type": "markdown",
   "metadata": {},
   "source": [
    "# NumPy Index Arrays"
   ]
  },
  {
   "cell_type": "code",
   "execution_count": 5,
   "metadata": {},
   "outputs": [],
   "source": [
    "# Change False to True for each block of code to see what it does\n",
    "\n",
    "# Using index arrays\n",
    "if False:\n",
    "    a = np.array([1, 2, 3, 4])\n",
    "    b = np.array([True, True, False, False])\n",
    "    \n",
    "    print(a[b])\n",
    "    print(a[np.array([True, False, True, False])])\n",
    "    \n",
    "# Creating the index array using vectorized operations\n",
    "if False:\n",
    "    a = np.array([1, 2, 3, 2, 1])\n",
    "    b = (a >= 2)\n",
    "    \n",
    "    print(a[b])\n",
    "    print(a[a >= 2])\n",
    "    \n",
    "# Creating the index array using vectorized operations on another array\n",
    "if False:\n",
    "    a = np.array([1, 2, 3, 4, 5])\n",
    "    b = np.array([1, 2, 3, 2, 1])\n",
    "    \n",
    "    print(b == 2)\n",
    "    print(a[b == 2])\n",
    "\n",
    "def mean_time_for_paid_students(time_spent, days_to_cancel):\n",
    "    '''\n",
    "    Fill in this function to calculate the mean time spent in the classroom\n",
    "    for students who stayed enrolled at least (greater than or equal to) 7 days.\n",
    "    Unlike in Lesson 1, you can assume that days_to_cancel will contain only\n",
    "    integers (there are no students who have not canceled yet).\n",
    "    \n",
    "    The arguments are NumPy arrays. time_spent contains the amount of time spent\n",
    "    in the classroom for each student, and days_to_cancel contains the number\n",
    "    of days until each student cancel. The data is given in the same order\n",
    "    in both arrays.\n",
    "    '''\n",
    "    return np.mean(time_spent[days_to_cancel>=7])\n",
    "\n",
    "# Time spent in the classroom in the first week for 20 students\n",
    "time_spent = np.array([\n",
    "       12.89697233,    0.        ,   64.55043217,    0.        ,\n",
    "       24.2315615 ,   39.991625  ,    0.        ,    0.        ,\n",
    "      147.20683783,    0.        ,    0.        ,    0.        ,\n",
    "       45.18261617,  157.60454283,  133.2434615 ,   52.85000767,\n",
    "        0.        ,   54.9204785 ,   26.78142417,    0.\n",
    "])\n",
    "\n",
    "# Days to cancel for 20 students\n",
    "days_to_cancel = np.array([\n",
    "      4,   5,  37,   3,  12,   4,  35,  38,   5,  37,   3,   3,  68,\n",
    "     38,  98,   2, 249,   2, 127,  35\n",
    "])\n"
   ]
  },
  {
   "cell_type": "markdown",
   "metadata": {},
   "source": [
    "# Panda Series"
   ]
  },
  {
   "cell_type": "code",
   "execution_count": 6,
   "metadata": {},
   "outputs": [],
   "source": [
    "countries = ['Albania', 'Algeria', 'Andorra', 'Angola', 'Antigua and Barbuda',\n",
    "             'Argentina', 'Armenia', 'Australia', 'Austria', 'Azerbaijan',\n",
    "             'Bahamas', 'Bahrain', 'Bangladesh', 'Barbados', 'Belarus',\n",
    "             'Belgium', 'Belize', 'Benin', 'Bhutan', 'Bolivia']\n",
    "\n",
    "life_expectancy_values = [74.7,  75. ,  83.4,  57.6,  74.6,  75.4,  72.3,  81.5,  80.2,\n",
    "                          70.3,  72.1,  76.4,  68.1,  75.2,  69.8,  79.4,  70.8,  62.7,\n",
    "                          67.3,  70.6]\n",
    "\n",
    "gdp_values = [ 1681.61390973,   2155.48523109,  21495.80508273,    562.98768478,\n",
    "              13495.1274663 ,   9388.68852258,   1424.19056199,  24765.54890176,\n",
    "              27036.48733192,   1945.63754911,  21721.61840978,  13373.21993972,\n",
    "                483.97086804,   9783.98417323,   2253.46411147,  25034.66692293,\n",
    "               3680.91642923,    366.04496652,   1175.92638695,   1132.21387981]\n",
    "\n",
    "# Life expectancy and gdp data in 2007 for 20 countries\n",
    "life_expectancy = pd.Series(life_expectancy_values)\n",
    "gdp = pd.Series(gdp_values)\n",
    "\n",
    "# Change False to True for each block of code to see what it does\n",
    "\n",
    "# Accessing elements and slicing\n",
    "if False:\n",
    "    print(life_expectancy[0])\n",
    "    print(gdp[3:6])\n",
    "    \n",
    "# Looping\n",
    "if False:\n",
    "    for country_life_expectancy in life_expectancy:\n",
    "        print('Examining life expectancy {}'.format(country_life_expectancy))\n",
    "        \n",
    "# Pandas functions\n",
    "if False:\n",
    "    print(life_expectancy.mean())\n",
    "    print(life_expectancy.std())\n",
    "    print(gdp.max())\n",
    "    print(gdp.sum())\n",
    "\n",
    "# Vectorized operations and index arrays\n",
    "if False:\n",
    "    a = pd.Series([1, 2, 3, 4])\n",
    "    b = pd.Series([1, 2, 1, 2])\n",
    "  \n",
    "    print(a + b)\n",
    "    print(a * 2)\n",
    "    print(a >= 3)\n",
    "    print(a[a >= 3])\n",
    "   \n",
    "def variable_correlation(variable1, variable2):\n",
    "    '''\n",
    "    Fill in this function to calculate the number of data points for which\n",
    "    the directions of variable1 and variable2 relative to the mean are the\n",
    "    same, and the number of data points for which they are different.\n",
    "    Direction here means whether each value is above or below its mean.\n",
    "    \n",
    "    You can classify cases where the value is equal to the mean for one or\n",
    "    both variables however you like.\n",
    "    \n",
    "    Each argument will be a Pandas series.\n",
    "    \n",
    "    For example, if the inputs were pd.Series([1, 2, 3, 4]) and\n",
    "    pd.Series([4, 5, 6, 7]), then the output would be (4, 0).\n",
    "    This is because 1 and 4 are both below their means, 2 and 5 are both\n",
    "    below, 3 and 6 are both above, and 4 and 7 are both above.\n",
    "    \n",
    "    On the other hand, if the inputs were pd.Series([1, 2, 3, 4]) and\n",
    "    pd.Series([7, 6, 5, 4]), then the output would be (0, 4).\n",
    "    This is because 1 is below its mean but 7 is above its mean, and\n",
    "    so on.\n",
    "    '''\n",
    "    num_same_direction = sum((variable1 > variable1.mean()) != (variable2 > variable2.mean()))        # Replace this with your code\n",
    "    num_different_direction = len(variable1) - num_same_direction   # Replace this with your code\n",
    "    \n",
    "    return (num_different_direction,num_same_direction)"
   ]
  },
  {
   "cell_type": "markdown",
   "metadata": {},
   "source": [
    "# Index Series"
   ]
  },
  {
   "cell_type": "code",
   "execution_count": 7,
   "metadata": {},
   "outputs": [],
   "source": [
    "import pandas as pd\n",
    "\n",
    "countries = [\n",
    "    'Afghanistan', 'Albania', 'Algeria', 'Angola',\n",
    "    'Argentina', 'Armenia', 'Australia', 'Austria',\n",
    "    'Azerbaijan', 'Bahamas', 'Bahrain', 'Bangladesh',\n",
    "    'Barbados', 'Belarus', 'Belgium', 'Belize',\n",
    "    'Benin', 'Bhutan', 'Bolivia', 'Bosnia and Herzegovina',\n",
    "]\n",
    "\n",
    "\n",
    "employment_values = [\n",
    "    55.70000076,  51.40000153,  50.5       ,  75.69999695,\n",
    "    58.40000153,  40.09999847,  61.5       ,  57.09999847,\n",
    "    60.90000153,  66.59999847,  60.40000153,  68.09999847,\n",
    "    66.90000153,  53.40000153,  48.59999847,  56.79999924,\n",
    "    71.59999847,  58.40000153,  70.40000153,  41.20000076,\n",
    "]\n",
    "\n",
    "# Employment data in 2007 for 20 countries\n",
    "employment = pd.Series(employment_values, index=countries)\n",
    "\n",
    "def max_employment(employment):\n",
    "    '''\n",
    "    Fill in this function to return the name of the country\n",
    "    with the highest employment in the given employment\n",
    "    data, and the employment in that country.\n",
    "    \n",
    "    The input will be a Pandas series where the values\n",
    "    are employment and the index is country names.\n",
    "    \n",
    "    Try using the Pandas idxmax() function. Documention can\n",
    "    be found here:\n",
    "    http://pandas.pydata.org/pandas-docs/stable/generated/pandas.Series.idxmax.html\n",
    "    '''\n",
    "    max_country = employment.idxmax()      # Replace this with your code\n",
    "    max_value = employment.loc[max_country]   # Replace this with your code\n",
    "\n",
    "    return (max_country, max_value)"
   ]
  },
  {
   "cell_type": "markdown",
   "metadata": {},
   "source": [
    "# Filling missing values"
   ]
  },
  {
   "cell_type": "code",
   "execution_count": 8,
   "metadata": {},
   "outputs": [
    {
     "data": {
      "text/plain": [
       "a     1.0\n",
       "b     2.0\n",
       "c    13.0\n",
       "d    24.0\n",
       "e    30.0\n",
       "f    40.0\n",
       "dtype: float64"
      ]
     },
     "execution_count": 8,
     "metadata": {},
     "output_type": "execute_result"
    }
   ],
   "source": [
    "s1 = pd.Series([1, 2, 3, 4], index=['a', 'b', 'c', 'd'])\n",
    "s2 = pd.Series([10, 20, 30, 40], index=['c', 'd', 'e', 'f'])\n",
    "\n",
    "# Try to write code that will add the 2 previous series together,\n",
    "# but treating missing values from either series as 0. The result\n",
    "# when printed out should be similar to the following line:\n",
    "# print pd.Series([1, 2, 13, 24, 30, 40], index=['a', 'b', 'c', 'd', 'e', 'f'])\n",
    "\n",
    "s1.add(s2, fill_value=0)"
   ]
  },
  {
   "cell_type": "markdown",
   "metadata": {},
   "source": [
    "# Panda Series apply()"
   ]
  },
  {
   "cell_type": "code",
   "execution_count": 9,
   "metadata": {},
   "outputs": [
    {
     "data": {
      "text/plain": [
       "0             Agassi, Andre\n",
       "1              Bonds, Barry\n",
       "2     Columbus, Christopher\n",
       "3             Defoe, Daniel\n",
       "4           Estevez, Emilio\n",
       "5          Flintstone, Fred\n",
       "6              Garbo, Greta\n",
       "7          Humbert, Humbert\n",
       "8               Ilych, Ivan\n",
       "9              Joyce, James\n",
       "10         Knightley, Keira\n",
       "11               Lane, Lois\n",
       "12              Myers, Mike\n",
       "13              Nolte, Nick\n",
       "14           Osbourne, Ozzy\n",
       "15           Picasso, Pablo\n",
       "16       Quirrell, Quirinus\n",
       "17             Ray, Rachael\n",
       "18          Sarandon, Susan\n",
       "19             Turner, Tina\n",
       "20           Urbina, Ugueth\n",
       "21            Vaughn, Vince\n",
       "22          Wilson, Woodrow\n",
       "23             Yamada, Yoji\n",
       "24         Zidane, Zinedine\n",
       "dtype: object"
      ]
     },
     "execution_count": 9,
     "metadata": {},
     "output_type": "execute_result"
    }
   ],
   "source": [
    "# Change False to True to see what the following block of code does\n",
    "\n",
    "# Example pandas apply() usage (although this could have been done\n",
    "# without apply() using vectorized operations)\n",
    "if False:\n",
    "    s = pd.Series([1, 2, 3, 4, 5])\n",
    "    def add_one(x):\n",
    "        return x + 1\n",
    "    print(s.apply(add_one))\n",
    "\n",
    "names = pd.Series([\n",
    "    'Andre Agassi',\n",
    "    'Barry Bonds',\n",
    "    'Christopher Columbus',\n",
    "    'Daniel Defoe',\n",
    "    'Emilio Estevez',\n",
    "    'Fred Flintstone',\n",
    "    'Greta Garbo',\n",
    "    'Humbert Humbert',\n",
    "    'Ivan Ilych',\n",
    "    'James Joyce',\n",
    "    'Keira Knightley',\n",
    "    'Lois Lane',\n",
    "    'Mike Myers',\n",
    "    'Nick Nolte',\n",
    "    'Ozzy Osbourne',\n",
    "    'Pablo Picasso',\n",
    "    'Quirinus Quirrell',\n",
    "    'Rachael Ray',\n",
    "    'Susan Sarandon',\n",
    "    'Tina Turner',\n",
    "    'Ugueth Urbina',\n",
    "    'Vince Vaughn',\n",
    "    'Woodrow Wilson',\n",
    "    'Yoji Yamada',\n",
    "    'Zinedine Zidane'\n",
    "])\n",
    "\n",
    "def rev_name(name):\n",
    "    a = name.split(\" \")\n",
    "    return \"{}, {}\".format(a[1],a[0])\n",
    "\n",
    "def reverse_names(names):\n",
    "    '''\n",
    "    Fill in this function to return a new series where each name\n",
    "    in the input series has been transformed from the format\n",
    "    \"Firstname Lastname\" to \"Lastname, FirstName\".\n",
    "    \n",
    "    Try to use the Pandas apply() function rather than a loop.\n",
    "    '''\n",
    "    return names.apply(rev_name)\n",
    "\n",
    "reverse_names(names)"
   ]
  },
  {
   "cell_type": "markdown",
   "metadata": {},
   "source": [
    "# Plotting in Pandas"
   ]
  },
  {
   "cell_type": "code",
   "execution_count": 10,
   "metadata": {},
   "outputs": [
    {
     "name": "stdout",
     "output_type": "stream",
     "text": [
      "Populating the interactive namespace from numpy and matplotlib\n"
     ]
    },
    {
     "data": {
      "text/plain": [
       "<AxesSubplot:>"
      ]
     },
     "execution_count": 10,
     "metadata": {},
     "output_type": "execute_result"
    },
    {
     "data": {
      "image/png": "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\n",
      "text/plain": [
       "<Figure size 432x288 with 1 Axes>"
      ]
     },
     "metadata": {
      "needs_background": "light"
     },
     "output_type": "display_data"
    }
   ],
   "source": [
    "# The following code reads all the Gapminder data into Pandas DataFrames. You'll\n",
    "# learn about DataFrames next lesson.\n",
    "\n",
    "employment = pd.read_csv('employment_above_15.csv', index_col='Country')\n",
    "female_completion = pd.read_csv('female_completion_rate.csv', index_col='Country')\n",
    "male_completion = pd.read_csv('male_completion_rate.csv', index_col='Country')\n",
    "life_expectancy = pd.read_csv('life_expectancy.csv', index_col='Country')\n",
    "gdp = pd.read_csv('gdp_per_capita.csv', index_col='Country')\n",
    "\n",
    "# The following code creates a Pandas Series for each variable for the United States.\n",
    "# You can change the string 'United States' to a country of your choice.\n",
    "\n",
    "employment_us = employment.loc['United States']\n",
    "female_completion_us = female_completion.loc['United States']\n",
    "male_completion_us = male_completion.loc['United States']\n",
    "life_expectancy_us = life_expectancy.loc['United States']\n",
    "gdp_us = gdp.loc['United States']\n",
    "\n",
    "# Uncomment the following line of code to see the available country names\n",
    "# print employment.index.values\n",
    "\n",
    "# Use the Series defined above to create a plot of each variable over time for\n",
    "# the country of your choice. You will only be able to display one plot at a time\n",
    "# with each \"Test Run\".\n",
    "\n",
    "%pylab inline\n",
    "employment_us.plot()"
   ]
  },
  {
   "cell_type": "code",
   "execution_count": 11,
   "metadata": {},
   "outputs": [
    {
     "data": {
      "text/plain": [
       "<AxesSubplot:>"
      ]
     },
     "execution_count": 11,
     "metadata": {},
     "output_type": "execute_result"
    },
    {
     "data": {
      "image/png": "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\n",
      "text/plain": [
       "<Figure size 432x288 with 1 Axes>"
      ]
     },
     "metadata": {
      "needs_background": "light"
     },
     "output_type": "display_data"
    }
   ],
   "source": [
    "female_completion_us.plot()"
   ]
  },
  {
   "cell_type": "code",
   "execution_count": 12,
   "metadata": {},
   "outputs": [
    {
     "data": {
      "text/plain": [
       "<AxesSubplot:>"
      ]
     },
     "execution_count": 12,
     "metadata": {},
     "output_type": "execute_result"
    },
    {
     "data": {
      "image/png": "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\n",
      "text/plain": [
       "<Figure size 432x288 with 1 Axes>"
      ]
     },
     "metadata": {
      "needs_background": "light"
     },
     "output_type": "display_data"
    }
   ],
   "source": [
    "male_completion_us.plot()"
   ]
  },
  {
   "cell_type": "code",
   "execution_count": 13,
   "metadata": {},
   "outputs": [
    {
     "data": {
      "text/plain": [
       "<AxesSubplot:>"
      ]
     },
     "execution_count": 13,
     "metadata": {},
     "output_type": "execute_result"
    },
    {
     "data": {
      "image/png": "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\n",
      "text/plain": [
       "<Figure size 432x288 with 1 Axes>"
      ]
     },
     "metadata": {
      "needs_background": "light"
     },
     "output_type": "display_data"
    }
   ],
   "source": [
    "life_expectancy_us.plot()"
   ]
  },
  {
   "cell_type": "code",
   "execution_count": 14,
   "metadata": {},
   "outputs": [
    {
     "data": {
      "text/plain": [
       "<AxesSubplot:>"
      ]
     },
     "execution_count": 14,
     "metadata": {},
     "output_type": "execute_result"
    },
    {
     "data": {
      "image/png": "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\n",
      "text/plain": [
       "<Figure size 432x288 with 1 Axes>"
      ]
     },
     "metadata": {
      "needs_background": "light"
     },
     "output_type": "display_data"
    }
   ],
   "source": [
    "gdp_us.plot()"
   ]
  }
 ],
 "metadata": {
  "kernelspec": {
   "display_name": "Python 3",
   "language": "python",
   "name": "python3"
  },
  "language_info": {
   "codemirror_mode": {
    "name": "ipython",
    "version": 3
   },
   "file_extension": ".py",
   "mimetype": "text/x-python",
   "name": "python",
   "nbconvert_exporter": "python",
   "pygments_lexer": "ipython3",
   "version": "3.8.5"
  }
 },
 "nbformat": 4,
 "nbformat_minor": 4
}
